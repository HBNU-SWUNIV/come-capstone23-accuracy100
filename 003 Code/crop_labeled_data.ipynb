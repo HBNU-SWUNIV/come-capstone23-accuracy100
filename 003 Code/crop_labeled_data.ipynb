{
  "cells": [
    {
      "cell_type": "code",
      "execution_count": 1,
      "metadata": {
        "colab": {
          "base_uri": "https://localhost:8080/"
        },
        "id": "ExVNrrlI4jH4",
        "outputId": "23074c0a-daee-400f-e193-d46c3397f59c"
      },
      "outputs": [
        {
          "output_type": "stream",
          "name": "stdout",
          "text": [
            "Drive already mounted at /gdrive; to attempt to forcibly remount, call drive.mount(\"/gdrive\", force_remount=True).\n"
          ]
        }
      ],
      "source": [
        "# 구글 드라이브 사용 권한 설정\n",
        "import os \n",
        "from google.colab import drive\n",
        "drive.mount('/gdrive')\n",
        "data_path = '/gdrive/MyDrive/Colab Notebooks/Capstone/'"
      ]
    },
    {
      "cell_type": "code",
      "execution_count": 2,
      "metadata": {
        "colab": {
          "base_uri": "https://localhost:8080/"
        },
        "id": "FDoAZR22G63E",
        "outputId": "4f59bbd8-7e66-4041-e239-2fae55d743f9"
      },
      "outputs": [
        {
          "output_type": "stream",
          "name": "stdout",
          "text": [
            "/gdrive/MyDrive/Colab Notebooks/Capstone\n"
          ]
        }
      ],
      "source": [
        "%cd /gdrive/MyDrive/Colab Notebooks/Capstone/"
      ]
    },
    {
      "cell_type": "code",
      "execution_count": 3,
      "metadata": {
        "id": "EW9mvQD44tJT"
      },
      "outputs": [],
      "source": [
        "import pandas as pd\n",
        "import cv2\n",
        "import numpy as np\n",
        "import ast\n",
        "from matplotlib import pyplot as plt"
      ]
    },
    {
      "cell_type": "code",
      "execution_count": 22,
      "metadata": {
        "id": "QOzjq0cC4tHN",
        "colab": {
          "base_uri": "https://localhost:8080/"
        },
        "outputId": "23021284-ee9f-4daf-ced4-8e35463274ef"
      },
      "outputs": [
        {
          "output_type": "stream",
          "name": "stderr",
          "text": [
            "<ipython-input-22-a89888639317>:3: FutureWarning: The error_bad_lines argument has been deprecated and will be removed in a future version. Use on_bad_lines in the future.\n",
            "\n",
            "\n",
            "  df3 = pd.read_csv(data_path+\"labeling/CSV_files/labeling_3.csv\",sep=r\",(?![^[]*\\])\",engine=\"python\",error_bad_lines=False)\n",
            "Skipping line 5: Expected 10 fields in line 5, saw 223. Error could possibly be due to quotes being ignored when a multi-char delimiter is used.\n",
            "Skipping line 6: Expected 10 fields in line 6, saw 231. Error could possibly be due to quotes being ignored when a multi-char delimiter is used.\n",
            "Skipping line 8: Expected 10 fields in line 8, saw 223. Error could possibly be due to quotes being ignored when a multi-char delimiter is used.\n",
            "Skipping line 9: Expected 10 fields in line 9, saw 15. Error could possibly be due to quotes being ignored when a multi-char delimiter is used.\n",
            "Skipping line 10: Expected 10 fields in line 10, saw 71. Error could possibly be due to quotes being ignored when a multi-char delimiter is used.\n",
            "Skipping line 13: Expected 10 fields in line 13, saw 239. Error could possibly be due to quotes being ignored when a multi-char delimiter is used.\n",
            "Skipping line 15: Expected 10 fields in line 15, saw 231. Error could possibly be due to quotes being ignored when a multi-char delimiter is used.\n",
            "Skipping line 17: Expected 10 fields in line 17, saw 31. Error could possibly be due to quotes being ignored when a multi-char delimiter is used.\n",
            "Skipping line 18: Expected 10 fields in line 18, saw 239. Error could possibly be due to quotes being ignored when a multi-char delimiter is used.\n",
            "Skipping line 19: Expected 10 fields in line 19, saw 87. Error could possibly be due to quotes being ignored when a multi-char delimiter is used.\n",
            "Skipping line 21: Expected 10 fields in line 21, saw 239. Error could possibly be due to quotes being ignored when a multi-char delimiter is used.\n",
            "Skipping line 23: Expected 10 fields in line 23, saw 151. Error could possibly be due to quotes being ignored when a multi-char delimiter is used.\n",
            "Skipping line 24: Expected 10 fields in line 24, saw 71. Error could possibly be due to quotes being ignored when a multi-char delimiter is used.\n"
          ]
        }
      ],
      "source": [
        "df1 = pd.read_csv(data_path+\"labeling/CSV_files/labeling_1.csv\",sep=r\",(?![^[]*\\])\",engine=\"python\") ## 써진 형식이 달라서 구분자 추가 \n",
        "df2 = pd.read_csv(data_path+\"labeling/CSV_files/labeling_2.csv\",sep=r\",(?![^[]*\\])\",engine=\"python\")\n",
        "df3 = pd.read_csv(data_path+\"labeling/CSV_files/labeling_3.csv\",sep=r\",(?![^[]*\\])\",engine=\"python\",error_bad_lines=False)\n",
        "df4 = pd.read_csv(data_path+\"labeling/CSV_files/labeling_4.csv\")\n",
        "# df5 = pd.read_csv(data_path+\"labeling/CSV_files/labeling_5.csv\",sep=r\",(?![^[]*\\])\",engine=\"python\")"
      ]
    },
    {
      "cell_type": "code",
      "source": [
        "df = pd.concat([df1,df2,df3,df4], ignore_index=True) #각각 읽은 df 합치기\n",
        "print(len(df1))\n",
        "print(len(df2))\n",
        "print(len(df3))\n",
        "print(len(df4))\n",
        "# print(len(df5))\n",
        "# print(df5.isnull().sum())\n",
        "df['ocr'][50]"
      ],
      "metadata": {
        "colab": {
          "base_uri": "https://localhost:8080/",
          "height": 107
        },
        "id": "yjmpjEugDDEv",
        "outputId": "6611ba0e-4de7-4c41-fde3-8d889ac4b8a6"
      },
      "execution_count": 23,
      "outputs": [
        {
          "output_type": "stream",
          "name": "stdout",
          "text": [
            "24\n",
            "17\n",
            "10\n",
            "40\n"
          ]
        },
        {
          "output_type": "execute_result",
          "data": {
            "text/plain": [
              "'/data/upload/2/c075d03e-photo_3_2023-04-09_00-29-36.jpg'"
            ],
            "application/vnd.google.colaboratory.intrinsic+json": {
              "type": "string"
            }
          },
          "metadata": {},
          "execution_count": 23
        }
      ]
    },
    {
      "cell_type": "code",
      "execution_count": 30,
      "metadata": {
        "id": "fxP2YK234tDD",
        "colab": {
          "base_uri": "https://localhost:8080/"
        },
        "outputId": "7ecd6ed0-7086-4b12-d080-ba32d6deaa1a"
      },
      "outputs": [
        {
          "output_type": "stream",
          "name": "stdout",
          "text": [
            "0\n",
            "0\n",
            "0\n"
          ]
        }
      ],
      "source": [
        "### 결측 확인 \n",
        "label = df['transcription']\n",
        "bbox = df['bbox']\n",
        "label_img = df['ocr']\n",
        "\n",
        "print(label.isnull().sum())\n",
        "print(label_img.isnull().sum())\n",
        "print(bbox.isnull().sum())"
      ]
    },
    {
      "cell_type": "code",
      "source": [
        "label"
      ],
      "metadata": {
        "colab": {
          "base_uri": "https://localhost:8080/"
        },
        "id": "OOUL7FqkC-9A",
        "outputId": "57885fe0-decc-4094-d5b2-48bfa46df567"
      },
      "execution_count": 31,
      "outputs": [
        {
          "output_type": "execute_result",
          "data": {
            "text/plain": [
              "0     [\"1\", \"9\", \"0\", \"4\", \"2\", \"5\", \"8\", \"8\", \"2\", ...\n",
              "1     [\"4\", \"7\", \"1\", \"9\", \"5\", \"0\", \"9\", \"1\", \"1\", ...\n",
              "2     [\"8\", \"7\", \"4\", \"3\", \"1\", \"0\", \"3\", \"0\", \"7\", ...\n",
              "3     [\"4\", \"7\", \"3\", \"5\", \"9\", \"2\", \"0\", \"0\", \"7\", ...\n",
              "4     [\"4\", \"3\", \"2\", \"9\", \"4\", \"2\", \"1\", \"1\", \"0\", ...\n",
              "                            ...                        \n",
              "86    [\"1\", \"6\", \"8\", \"0\", \"7\", \"2\", \"2\", \"1\", \"0\", ...\n",
              "87    [\"1\", \"2\", \"5\", \"8\", \"2\", \"0\", \"4\", \"0\", \"5\", ...\n",
              "88    [\"2\", \"1\", \"5\", \"2\", \"1\", \"1\", \"2\", \"0\", \"2\", ...\n",
              "89    [\"3\", \"5\", \"2\", \"9\", \"2\", \"2\", \"0\", \"6\", \"2\", ...\n",
              "90    [\"4\", \"1\", \"2\", \"3\", \"2\", \"0\", \"0\", \"8\", \"0\", ...\n",
              "Name: transcription, Length: 91, dtype: object"
            ]
          },
          "metadata": {},
          "execution_count": 31
        }
      ]
    },
    {
      "cell_type": "code",
      "execution_count": 32,
      "metadata": {
        "id": "Et3uCmwi4tAs"
      },
      "outputs": [],
      "source": [
        "# 저장된 원본 이미지 경로 다시 설정 \n",
        "label_img = [path.replace(label_img[i], \n",
        "                          '/gdrive/My Drive/Colab Notebooks/Capstone/labeling/images/'+str(path.split('/')[-1])) for i,path in enumerate(label_img)]\n"
      ]
    },
    {
      "cell_type": "code",
      "execution_count": 34,
      "metadata": {
        "id": "y9dpMklAmI4v",
        "colab": {
          "base_uri": "https://localhost:8080/"
        },
        "outputId": "66486519-7cb7-4fc5-8c0c-940bbee14816"
      },
      "outputs": [
        {
          "output_type": "stream",
          "name": "stdout",
          "text": [
            "15f6c072-KakaoTalk_Photo_2023-03-16-23-10-02_001.jpeg0..........DONE\n",
            "ece4c854-KakaoTalk_Photo_2023-03-16-23-10-02_002.jpeg1..........DONE\n",
            "ed4102ca-KakaoTalk_Photo_2023-03-16-23-10-02_003.jpeg2..........DONE\n",
            "c3b0faab-KakaoTalk_Photo_2023-03-16-23-10-03_004.jpeg3..........DONE\n",
            "96be5f3d-KakaoTalk_Photo_2023-03-16-23-10-03_005.jpeg4..........DONE\n",
            "452016e1-KakaoTalk_Photo_2023-03-16-23-10-03_006.jpeg5..........DONE\n",
            "851966ea-KakaoTalk_Photo_2023-03-16-23-10-03_007.jpeg6..........DONE\n",
            "f6c03168-KakaoTalk_Photo_2023-03-16-23-10-03_008.jpeg7..........DONE\n",
            "8ebc7a24-KakaoTalk_Photo_2023-03-16-23-10-03_009.jpeg8..........DONE\n",
            "10a5b339-KakaoTalk_Photo_2023-03-16-23-10-04_010.jpeg9..........DONE\n",
            "d4ef86e5-KakaoTalk_Photo_2023-03-16-23-10-04_011.jpeg10..........DONE\n",
            "696d3444-KakaoTalk_Photo_2023-03-16-23-10-04_012.jpeg11..........DONE\n",
            "37642b01-KakaoTalk_Photo_2023-03-16-23-10-04_013.jpeg12..........DONE\n",
            "5707eaaf-KakaoTalk_Photo_2023-03-16-23-10-04_014.jpeg13..........DONE\n",
            "53ecf0d1-KakaoTalk_Photo_2023-03-16-23-10-04_015.jpeg14..........DONE\n",
            "261b7f77-KakaoTalk_Photo_2023-03-16-23-10-05_016.jpeg15..........DONE\n",
            "3cd60a45-KakaoTalk_Photo_2023-03-16-23-10-05_017.jpeg16..........DONE\n",
            "00fc30c2-KakaoTalk_Photo_2023-03-16-23-10-05_018.jpeg17..........DONE\n",
            "d4bb2c2f-KakaoTalk_Photo_2023-03-16-23-10-05_019.jpeg18..........DONE\n",
            "54fa4f54-KakaoTalk_Photo_2023-03-16-23-10-05_020.jpeg19..........DONE\n",
            "c8fd9a3f-KakaoTalk_Photo_2023-03-16-23-10-05_021.jpeg20..........DONE\n",
            "338a1aff-KakaoTalk_Photo_2023-03-16-23-10-06_022.jpeg21..........DONE\n",
            "9edb270e-KakaoTalk_Photo_2023-03-16-23-10-06_023.jpeg22..........DONE\n",
            "85d81f4a-KakaoTalk_Photo_2023-03-16-23-10-06_024.jpeg23..........DONE\n",
            "0e3505c8-KakaoTalk_20230405_015831194.jpg24..........DONE\n",
            "fa561546-KakaoTalk_20230405_015831194_01.jpg25..........DONE\n",
            "4ec5a513-KakaoTalk_20230405_020842472.jpg26..........DONE\n",
            "668664bd-KakaoTalk_20230408_151350867.jpg27..........DONE\n",
            "c560f88e-KakaoTalk_20230408_153452840.jpg28..........DONE\n",
            "c2833112-KakaoTalk_20230408_154725217.jpg29..........DONE\n",
            "f11b50e0-KakaoTalk_20230408_155928908.jpg30..........DONE\n",
            "db73c284-KakaoTalk_20230408_160910270.jpg31..........DONE\n",
            "13ea0b09-KakaoTalk_20230408_162316639.jpg32..........DONE\n",
            "4c666532-KakaoTalk_20230408_163250698.jpg33..........DONE\n",
            "75d0035b-KakaoTalk_20230408_170831721.jpg34..........DONE\n",
            "b976b927-KakaoTalk_20230408_170832585.jpg35..........DONE\n",
            "bd2a63f3-KakaoTalk_20230408_170833688.jpg36..........DONE\n",
            "767bbb6b-KakaoTalk_20230408_170834734.jpg37..........DONE\n",
            "adf47d75-KakaoTalk_20230408_170835580.jpg38..........DONE\n",
            "78c75c1d-KakaoTalk_20230408_170836628.jpg39..........DONE\n",
            "d57a92a0-KakaoTalk_20230408_170837506.jpg40..........DONE\n",
            "f7fc55ac-photo_2023-04-07_23-30-20.jpg41..........DONE\n",
            "6cba8a7a-photo_1_2023-04-08_02-25-41.jpg42..........DONE\n",
            "bea0ce36-photo_2_2023-04-08_02-25-41.jpg43..........DONE\n",
            "93260acc-photo_5_2023-04-08_02-25-41.jpg44..........DONE\n",
            "e169dfef-photo_1_2023-04-08_23-51-46.jpg45..........DONE\n",
            "8d5240f9-photo_2_2023-04-08_23-51-46.jpg46..........DONE\n",
            "6fe46da7-photo_4_2023-04-08_23-51-46.jpg47..........DONE\n",
            "55539767-photo_6_2023-04-08_23-51-46.jpg48..........DONE\n",
            "d21af7ff-photo_10_2023-04-08_23-51-46.jpg49..........DONE\n",
            "c075d03e-photo_3_2023-04-09_00-29-36.jpg50..........DONE\n",
            "6fcb2777-KakaoTalk_20230409_122453629_01.jpg51..........DONE\n",
            "366aba34-KakaoTalk_20230409_122453629.jpg52..........DONE\n",
            "359dcdc5-KakaoTalk_20230409_122453629_19.jpg53..........DONE\n",
            "b7ada732-KakaoTalk_20230409_122453629_18.jpg54..........DONE\n",
            "c9d8ef25-KakaoTalk_20230409_122453629_17.jpg55..........DONE\n",
            "06e14734-KakaoTalk_20230409_122453629_16.jpg56..........DONE\n",
            "714bbea3-KakaoTalk_20230409_122453629_15.jpg57..........DONE\n",
            "9c21c828-KakaoTalk_20230409_122453629_14.jpg58..........DONE\n",
            "f05ad77f-KakaoTalk_20230409_122453629_13.jpg59..........DONE\n",
            "a01cd9fe-KakaoTalk_20230409_122453629_12.jpg60..........DONE\n",
            "e3f7bf91-KakaoTalk_20230409_122453629_11.jpg61..........DONE\n",
            "777ac794-KakaoTalk_20230409_122453629_10.jpg62..........DONE\n",
            "960bf27a-KakaoTalk_20230409_122453629_09.jpg63..........DONE\n",
            "04946375-KakaoTalk_20230409_122453629_08.jpg64..........DONE\n",
            "3aaaf2f4-KakaoTalk_20230409_122453629_07.jpg65..........DONE\n",
            "49c0838b-KakaoTalk_20230409_122453629_06.jpg66..........DONE\n",
            "aa792980-KakaoTalk_20230409_122453629_05.jpg67..........DONE\n",
            "f9db8afd-KakaoTalk_20230409_122453629_04.jpg68..........DONE\n",
            "b438f03d-KakaoTalk_20230409_122453629_03.jpg69..........DONE\n",
            "677cccbc-KakaoTalk_20230409_122453629_02.jpg70..........DONE\n",
            "4d479ded-ex.jpg71..........DONE\n",
            "d767f083-KakaoTalk_20230407_210306265_06.jpg72..........DONE\n",
            "c24466ff-KakaoTalk_20230407_210306265_05.jpg73..........DONE\n",
            "95031d60-KakaoTalk_20230407_210306265_04.jpg74..........DONE\n",
            "d2ee487b-KakaoTalk_20230407_210306265_03.jpg75..........DONE\n",
            "59c067b8-KakaoTalk_20230407_210306265_02.jpg76..........DONE\n",
            "6b5843a3-KakaoTalk_20230407_210306265_01.jpg77..........DONE\n",
            "5c4aa487-KakaoTalk_20230407_210306265.jpg78..........DONE\n",
            "a9edde78-KakaoTalk_20230407_174250671_07.jpg79..........DONE\n",
            "d1bae45e-KakaoTalk_20230407_174250671_06.jpg80..........DONE\n",
            "ea56563a-KakaoTalk_20230407_174250671_05.jpg81..........DONE\n",
            "2e6f0c10-KakaoTalk_20230407_174250671_04.jpg82..........DONE\n",
            "df841465-KakaoTalk_20230407_174250671_03.jpg83..........DONE\n",
            "addba915-KakaoTalk_20230407_174250671_02.jpg84..........DONE\n",
            "26927b09-KakaoTalk_20230407_174250671_01.jpg85..........DONE\n",
            "6d785f6b-KakaoTalk_20230407_174250671.jpg86..........DONE\n",
            "b9c8927e-KakaoTalk_20230317_124326065_03.jpg87..........DONE\n",
            "045a6a04-KakaoTalk_20230317_124326065_02.jpg88..........DONE\n",
            "2d959f5a-KakaoTalk_20230317_124326065_01.jpg89..........DONE\n",
            "13db6b12-KakaoTalk_20230317_124326065.jpg90..........DONE\n"
          ]
        }
      ],
      "source": [
        "### image crop\n",
        "f = open(\"./gt_crop.txt\", \"w\")\n",
        "\n",
        "for n in range(len(label_img)):\n",
        "  org_img = cv2.imread(label_img[n])\n",
        "  box = bbox[n]\n",
        "  for i,img in enumerate(eval(box)) :\n",
        "      x = round(img.get('x')*float(img.get('original_width'))/100.0)\n",
        "      y = round(img.get('y')*float(img.get('original_height'))/100.0)\n",
        "      w = round(img.get('width')*float(img.get('original_width'))/100.0)\n",
        "      h = round(img.get('height')*float(img.get('original_height'))/100.0)\n",
        "      \n",
        "      crop = org_img[y:y+h, x:x+w]\n",
        "      crop_path = f'./cropimg/{n}_crop_{x}_{y}_{w}_{h}.jpg'\n",
        "      cv2.imwrite(crop_path, crop)\n",
        "      f.write(crop_path.lstrip('./')+'\\t'+ str(eval(label[n])[i])+'\\n')\n",
        "              #/파일이름  정답 \n",
        "  print(label_img[n].split('/')[-1]+str(n)+'..........DONE')\n",
        "f.close()"
      ]
    },
    {
      "cell_type": "code",
      "source": [],
      "metadata": {
        "id": "D4wBy93Yo7OF"
      },
      "execution_count": 33,
      "outputs": []
    }
  ],
  "metadata": {
    "colab": {
      "provenance": []
    },
    "kernelspec": {
      "display_name": "Python 3",
      "name": "python3"
    },
    "language_info": {
      "name": "python"
    }
  },
  "nbformat": 4,
  "nbformat_minor": 0
}