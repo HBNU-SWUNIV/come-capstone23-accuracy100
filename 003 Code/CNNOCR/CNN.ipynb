{
  "nbformat": 4,
  "nbformat_minor": 0,
  "metadata": {
    "colab": {
      "provenance": [],
      "gpuType": "T4"
    },
    "kernelspec": {
      "name": "python3",
      "display_name": "Python 3"
    },
    "language_info": {
      "name": "python"
    },
    "accelerator": "GPU"
  },
  "cells": [
    {
      "cell_type": "markdown",
      "source": [
        "1. 이미지 이진화\n",
        "2. 사이즈 통일"
      ],
      "metadata": {
        "id": "77drRZCMh7Gy"
      }
    },
    {
      "cell_type": "code",
      "execution_count": null,
      "metadata": {
        "colab": {
          "base_uri": "https://localhost:8080/"
        },
        "id": "0O-OxSOoTDR4",
        "outputId": "52cdc1b4-da61-4894-9029-8a1a18876261"
      },
      "outputs": [
        {
          "output_type": "stream",
          "name": "stdout",
          "text": [
            "Drive already mounted at /gdrive; to attempt to forcibly remount, call drive.mount(\"/gdrive\", force_remount=True).\n"
          ]
        }
      ],
      "source": [
        "# 구글 드라이브 사용 권한 설정\n",
        "import os\n",
        "from google.colab import drive\n",
        "drive.mount('/gdrive')"
      ]
    },
    {
      "cell_type": "code",
      "source": [
        "import cv2\n",
        "import numpy as np\n",
        "from matplotlib import pyplot as plt\n",
        "from google.colab.patches import cv2_imshow\n",
        "\n",
        "import torch\n",
        "import torch.nn as nn\n",
        "import torch.nn.functional as F\n",
        "import torch.optim as optim\n",
        "from torchvision import datasets, transforms\n",
        "import albumentations as A\n",
        "import os\n",
        "import random\n",
        "import numpy as np\n",
        "import matplotlib.pyplot as plt"
      ],
      "metadata": {
        "id": "OYGtN3PWUMyy"
      },
      "execution_count": null,
      "outputs": []
    },
    {
      "cell_type": "code",
      "source": [
        "tmp = '/gdrive/MyDrive/Colab Notebooks/Capstone/labeling_crop_train/99_crop_2375_1639_140_232_aug_3811_0.jpg'\n",
        "tmp = cv2.imread(tmp)\n",
        "tmp = cv2.resize(tmp,(120,120))\n",
        "gray = cv2.cvtColor(tmp, cv2.COLOR_RGB2GRAY)\n",
        "# for idx,i in enumerate(gray):\n",
        "#   for id,j in enumerate(i):\n",
        "#     if j == 0 :\n",
        "#       gray[idx][id] = 255\n",
        "cv2_imshow(gray)\n",
        "gray.shape"
      ],
      "metadata": {
        "colab": {
          "base_uri": "https://localhost:8080/",
          "height": 154
        },
        "id": "0IFucMIbTTGd",
        "outputId": "39d503d7-4e13-425c-b7ac-989d0989f818"
      },
      "execution_count": null,
      "outputs": [
        {
          "output_type": "display_data",
          "data": {
            "text/plain": [
              "<PIL.Image.Image image mode=L size=120x120>"
            ],
            "image/png": "[encoded data removed]"
          },
          "metadata": {}
        },
        {
          "output_type": "execute_result",
          "data": {
            "text/plain": [
              "(120, 120)"
            ]
          },
          "metadata": {},
          "execution_count": 10
        }
      ]
    },
    {
      "cell_type": "code",
      "source": [
        "# ### mnist data ####\n",
        "\n",
        "\n",
        "# from tensorflow.keras import datasets\n",
        "\n",
        "# mnist = datasets.mnist\n",
        "\n",
        "# (X_train, y_train), (X_test, y_test) = mnist.load_data()\n",
        "# X_train, X_test = X_train / 255.0, X_test / 255.0\n",
        "\n",
        "# X_train = X_train.reshape((60000, 28 ,28, 1))\n",
        "# X_test = X_test.reshape((10000, 28 ,28, 1))"
      ],
      "metadata": {
        "id": "jA5UVYX3scYh"
      },
      "execution_count": null,
      "outputs": []
    },
    {
      "cell_type": "code",
      "source": [
        "# plt.imshow(X_train[1].reshape(28,28))\n",
        "# print(y_train[1])"
      ],
      "metadata": {
        "id": "sZa-Y20tsdRe"
      },
      "execution_count": null,
      "outputs": []
    },
    {
      "cell_type": "code",
      "source": [
        "import os\n",
        "from PIL import Image\n",
        "import numpy as np\n",
        "\n",
        "gt_path = '/gdrive/MyDrive/Colab Notebooks/Capstone/labeling_crop_train/gt.txt'\n",
        "\n",
        "X_train = []\n",
        "y_train = []\n",
        "with open(gt_path, \"r\") as f:\n",
        "  for line in f:\n",
        "    img_file, label = line.strip().split(\"\\t\")\n",
        "    img = Image.open('/gdrive/MyDrive/Colab Notebooks/Capstone/'+img_file)\n",
        "    img = img.resize((32,32))\n",
        "    img_array = np.array(img)\n",
        "    X_train.append(img_array)\n",
        "    y_train.append(label)\n"
      ],
      "metadata": {
        "id": "6KBaA27tuEN5"
      },
      "execution_count": null,
      "outputs": []
    },
    {
      "cell_type": "code",
      "source": [
        "print(len(X_train))\n",
        "print(X_train[1].shape)\n",
        "plt.imshow(X_train[1])\n",
        "print(y_train[1])"
      ],
      "metadata": {
        "id": "GimtF3IMzppO",
        "colab": {
          "base_uri": "https://localhost:8080/",
          "height": 482
        },
        "outputId": "2de4bd6e-fc34-4898-92f7-c1c43cac6241"
      },
      "execution_count": null,
      "outputs": [
        {
          "output_type": "stream",
          "name": "stdout",
          "text": [
            "15300\n",
            "(32, 32, 3)\n",
            "9\n"
          ]
        },
        {
          "output_type": "display_data",
          "data": {
            "text/plain": [
              "<Figure size 640x480 with 1 Axes>"
            ],
            "image/png": "[encoded data removed]"
          },
          "metadata": {}
        }
      ]
    },
    {
      "cell_type": "code",
      "source": [
        "gt_path = '/gdrive/MyDrive/Colab Notebooks/Capstone/labeling_crop_valid/gt.txt'\n",
        "\n",
        "X_test = []\n",
        "y_test = []\n",
        "with open(gt_path, \"r\") as f:\n",
        "  for line in f:\n",
        "    img_file, label = line.strip().split(\"\\t\")\n",
        "    img = Image.open('/gdrive/MyDrive/Colab Notebooks/Capstone/'+img_file)\n",
        "    img = img.resize((32,32))\n",
        "    img_array = np.array(img)\n",
        "    X_test.append(img_array)\n",
        "    y_test.append(label)"
      ],
      "metadata": {
        "id": "GwCWJGmr54JX"
      },
      "execution_count": null,
      "outputs": []
    },
    {
      "cell_type": "code",
      "source": [
        "print(len(X_test))\n",
        "print(X_test[1].shape)\n",
        "plt.imshow(X_test[1])\n",
        "print(y_test[1])"
      ],
      "metadata": {
        "colab": {
          "base_uri": "https://localhost:8080/",
          "height": 482
        },
        "id": "SUE4p_lNkBU1",
        "outputId": "e202e1d8-0a14-4eaa-a0d9-1f197779838b"
      },
      "execution_count": null,
      "outputs": [
        {
          "output_type": "stream",
          "name": "stdout",
          "text": [
            "931\n",
            "(32, 32, 3)\n",
            "4\n"
          ]
        },
        {
          "output_type": "display_data",
          "data": {
            "text/plain": [
              "<Figure size 640x480 with 1 Axes>"
            ],
            "image/png": "[encoded data removed]"
          },
          "metadata": {}
        }
      ]
    },
    {
      "cell_type": "code",
      "source": [
        "###  NULL 제거 # 실수 제거 # 10 이상 수 제거\n",
        "for i,x in enumerate(y_train):\n",
        "  if x == 'NULL' :\n",
        "    del y_train[i]\n",
        "    del X_train[i]\n",
        "\n",
        "for i,x in enumerate(y_test):\n",
        "  if x == 'NULL' :\n",
        "    del y_test[i]\n",
        "    del X_test[i]\n",
        "\n"
      ],
      "metadata": {
        "id": "8gPv1hKMBDTU"
      },
      "execution_count": null,
      "outputs": []
    },
    {
      "cell_type": "code",
      "source": [
        "# 실수 제거\n",
        "for i,x in enumerate(y_train):\n",
        "  if x.find('.') != -1 :\n",
        "    del y_train[i]\n",
        "    del X_train[i]\n",
        "\n",
        "for i,x in enumerate(y_test):\n",
        "  if x.find('.') != -1 :\n",
        "    del y_test[i]\n",
        "    del X_test[i]\n",
        "\n"
      ],
      "metadata": {
        "id": "yeRe9qKIEluD"
      },
      "execution_count": null,
      "outputs": []
    },
    {
      "cell_type": "code",
      "source": [
        "# 10 이상 수 제거\n",
        "for i,x in enumerate(y_train):\n",
        "  if int(x) >= 10 :\n",
        "    del y_train[i]\n",
        "    del X_train[i]\n",
        "\n",
        "for i,x in enumerate(y_test):\n",
        "  if int(x) >= 10 :\n",
        "    del y_test[i]\n",
        "    del X_test[i]"
      ],
      "metadata": {
        "id": "2ey0TmtAGeR4"
      },
      "execution_count": null,
      "outputs": []
    },
    {
      "cell_type": "code",
      "source": [
        "# 확인\n",
        "for i,x in enumerate(y_train):\n",
        "  if x == 'NULL' or x.find('.') != -1 or int(x) >= 10:\n",
        "    print(str(i))\n",
        "\n",
        "for i,x in enumerate(y_test):\n",
        "  if x == 'NULL' or x.find('.') != -1 or int(x) >= 10 :\n",
        "    print(str(i))"
      ],
      "metadata": {
        "id": "TTeNs6DeCBjc"
      },
      "execution_count": null,
      "outputs": []
    },
    {
      "cell_type": "code",
      "source": [
        "######################################################################################################################################################"
      ],
      "metadata": {
        "id": "nuN68w62GvAO"
      },
      "execution_count": null,
      "outputs": []
    },
    {
      "cell_type": "code",
      "source": [
        "from tensorflow.keras import layers, models\n",
        "\n",
        "model = models.Sequential([\n",
        "    layers.Conv2D(32, kernel_size=(5, 5), strides=(1, 1),\n",
        "                  padding='same', activation='relu', input_shape=(32, 32, 3)),\n",
        "    layers.MaxPooling2D(pool_size=(2, 2), strides=(2, 2)),\n",
        "    layers.Conv2D(64, kernel_size=(2, 2), activation='relu', padding='same'),\n",
        "    layers.MaxPooling2D(pool_size=(2, 2)),\n",
        "    layers.Dropout(0.25),\n",
        "    layers.Flatten(),\n",
        "    # layers.Dense(10000, activation='relu'),\n",
        "    layers.Dense(1000, activation='relu'),\n",
        "    layers.Dense(10, activation='softmax')\n",
        "])\n",
        "\n",
        "model.summary()"
      ],
      "metadata": {
        "id": "VRloMfMsTTA3",
        "colab": {
          "base_uri": "https://localhost:8080/"
        },
        "outputId": "b6131bed-b9b7-4da2-830e-dab5d90029ab"
      },
      "execution_count": null,
      "outputs": [
        {
          "output_type": "stream",
          "name": "stdout",
          "text": [
            "Model: \"sequential_9\"\n",
            "_________________________________________________________________\n",
            " Layer (type)                Output Shape              Param #   \n",
            "=================================================================\n",
            " conv2d_18 (Conv2D)          (None, 32, 32, 32)        2432      \n",
            "                                                                 \n",
            " max_pooling2d_18 (MaxPoolin  (None, 16, 16, 32)       0         \n",
            " g2D)                                                            \n",
            "                                                                 \n",
            " conv2d_19 (Conv2D)          (None, 16, 16, 64)        8256      \n",
            "                                                                 \n",
            " max_pooling2d_19 (MaxPoolin  (None, 8, 8, 64)         0         \n",
            " g2D)                                                            \n",
            "                                                                 \n",
            " dropout_9 (Dropout)         (None, 8, 8, 64)          0         \n",
            "                                                                 \n",
            " flatten_9 (Flatten)         (None, 4096)              0         \n",
            "                                                                 \n",
            " dense_19 (Dense)            (None, 1000)              4097000   \n",
            "                                                                 \n",
            " dense_20 (Dense)            (None, 10)                10010     \n",
            "                                                                 \n",
            "=================================================================\n",
            "Total params: 4,117,698\n",
            "Trainable params: 4,117,698\n",
            "Non-trainable params: 0\n",
            "_________________________________________________________________\n"
          ]
        }
      ]
    },
    {
      "cell_type": "code",
      "source": [
        "X_train_rgb = []\n",
        "\n",
        "for img in X_train:\n",
        "    if len(img.shape) == 2:  # grayscale image\n",
        "        rgb_img = cv2.cvtColor(img, cv2.COLOR_GRAY2RGB)\n",
        "        X_train_rgb.append(rgb_img)\n",
        "    else:                    # color image\n",
        "        X_train_rgb.append(img)\n",
        "\n",
        "# Convert the list to a numpy array\n",
        "X_train = np.array(X_train_rgb)"
      ],
      "metadata": {
        "id": "Ru1LBDGjseOA"
      },
      "execution_count": null,
      "outputs": []
    },
    {
      "cell_type": "code",
      "source": [
        "y_train = np.array(y_train)\n",
        "X_test = np.array(X_test)\n",
        "y_test = np.array(y_test)\n",
        "\n",
        "# X_train, X_test = X_train / 255.0, X_test / 255.0\n",
        "\n",
        "# X_train = X_train.reshape((15300, 120 ,120, 1))\n",
        "# X_test = X_test.reshape((931, 120 ,120, 1))"
      ],
      "metadata": {
        "id": "yi_QdA4InRB5"
      },
      "execution_count": null,
      "outputs": []
    },
    {
      "cell_type": "code",
      "source": [
        "print(X_train.shape)\n",
        "print(y_train.shape)\n",
        "print(X_test.shape)\n",
        "print(y_test.shape)"
      ],
      "metadata": {
        "colab": {
          "base_uri": "https://localhost:8080/"
        },
        "id": "jSihRKjDoLlo",
        "outputId": "9789648f-e701-44a2-a853-7641812226c3"
      },
      "execution_count": null,
      "outputs": [
        {
          "output_type": "stream",
          "name": "stdout",
          "text": [
            "(13504, 32, 32, 3)\n",
            "(13504,)\n",
            "(845, 32, 32, 3)\n",
            "(845,)\n"
          ]
        }
      ]
    },
    {
      "cell_type": "code",
      "source": [
        "y_train =  np.array(y_train).astype(np.int)\n",
        "y_test =  np.array(y_test).astype(np.int)\n",
        "# int_array = np.array(str_list).astype(np.int)"
      ],
      "metadata": {
        "colab": {
          "base_uri": "https://localhost:8080/"
        },
        "id": "FlLqdA8v5aly",
        "outputId": "9b70a45c-cf34-4e8b-ccb8-813326758f40"
      },
      "execution_count": null,
      "outputs": [
        {
          "output_type": "stream",
          "name": "stderr",
          "text": [
            "<ipython-input-236-04ca469d310a>:1: DeprecationWarning: `np.int` is a deprecated alias for the builtin `int`. To silence this warning, use `int` by itself. Doing this will not modify any behavior and is safe. When replacing `np.int`, you may wish to use e.g. `np.int64` or `np.int32` to specify the precision. If you wish to review your current use, check the release note link for additional information.\n",
            "Deprecated in NumPy 1.20; for more details and guidance: https://numpy.org/devdocs/release/1.20.0-notes.html#deprecations\n",
            "  y_train =  np.array(y_train).astype(np.int)\n",
            "<ipython-input-236-04ca469d310a>:2: DeprecationWarning: `np.int` is a deprecated alias for the builtin `int`. To silence this warning, use `int` by itself. Doing this will not modify any behavior and is safe. When replacing `np.int`, you may wish to use e.g. `np.int64` or `np.int32` to specify the precision. If you wish to review your current use, check the release note link for additional information.\n",
            "Deprecated in NumPy 1.20; for more details and guidance: https://numpy.org/devdocs/release/1.20.0-notes.html#deprecations\n",
            "  y_test =  np.array(y_test).astype(np.int)\n"
          ]
        }
      ]
    },
    {
      "cell_type": "code",
      "source": [
        "import time\n",
        "\n",
        "model.compile(optimizer='adam', loss = 'sparse_categorical_crossentropy', metrics=['accuracy'])\n",
        "\n",
        "start_time = time.time()\n",
        "\n",
        "hist = model.fit(X_train, y_train, epochs=5, verbose = 1, validation_data=(X_test, y_test))\n",
        "# hist = model.fit(X_train, y_train_encoded, epochs=5, verbose=1, validation_data=(X_test, y_test))\n",
        "\n",
        "print(f'Fit Time :{time.time() - start_time}')"
      ],
      "metadata": {
        "id": "YjavLQbMTS-z",
        "colab": {
          "base_uri": "https://localhost:8080/"
        },
        "outputId": "66c2ac77-1835-479f-8eff-cf74bba9418b"
      },
      "execution_count": null,
      "outputs": [
        {
          "output_type": "stream",
          "name": "stdout",
          "text": [
            "Epoch 1/5\n",
            "422/422 [==============================] - 51s 117ms/step - loss: 4.6758 - accuracy: 0.8990 - val_loss: 0.0939 - val_accuracy: 0.9822\n",
            "Epoch 2/5\n",
            "422/422 [==============================] - 49s 115ms/step - loss: 0.0757 - accuracy: 0.9785 - val_loss: 0.0831 - val_accuracy: 0.9917\n",
            "Epoch 3/5\n",
            "422/422 [==============================] - 48s 114ms/step - loss: 0.0721 - accuracy: 0.9793 - val_loss: 0.0916 - val_accuracy: 0.9929\n",
            "Epoch 4/5\n",
            "422/422 [==============================] - 47s 111ms/step - loss: 0.0681 - accuracy: 0.9822 - val_loss: 0.1100 - val_accuracy: 0.9929\n",
            "Epoch 5/5\n",
            "422/422 [==============================] - 47s 112ms/step - loss: 0.0356 - accuracy: 0.9907 - val_loss: 0.1087 - val_accuracy: 0.9941\n",
            "Fit Time :263.4326162338257\n"
          ]
        }
      ]
    },
    {
      "cell_type": "code",
      "source": [
        "#저장\n",
        "model.save('/gdrive/MyDrive/Colab Notebooks/Capstone/CNN_my_model')"
      ],
      "metadata": {
        "colab": {
          "base_uri": "https://localhost:8080/"
        },
        "id": "D12Q51akIkEu",
        "outputId": "4677f008-8f72-41a3-8b01-0f3da5a3ff6f"
      },
      "execution_count": null,
      "outputs": [
        {
          "output_type": "stream",
          "name": "stderr",
          "text": [
            "WARNING:absl:Found untraced functions such as _jit_compiled_convolution_op, _jit_compiled_convolution_op, _update_step_xla while saving (showing 3 of 3). These functions will not be directly callable after loading.\n"
          ]
        }
      ]
    },
    {
      "cell_type": "code",
      "source": [
        "## 틀린숫자 확인 /\n",
        "## 모델 바로 수행하는거"
      ],
      "metadata": {
        "id": "Mnk2Ho5mI4q-"
      },
      "execution_count": null,
      "outputs": []
    }
  ]
}